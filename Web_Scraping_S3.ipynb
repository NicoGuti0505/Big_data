{
  "nbformat": 4,
  "nbformat_minor": 0,
  "metadata": {
    "colab": {
      "provenance": []
    },
    "kernelspec": {
      "name": "python3",
      "display_name": "Python 3"
    },
    "language_info": {
      "name": "python"
    }
  },
  "cells": [
    {
      "cell_type": "code",
      "source": [
        "import json\n",
        "import urllib.request\n",
        "import datetime\n",
        "import boto3\n",
        "\n",
        "def lambda_handler(event, context):\n",
        "    # TODO implement\n",
        "    url = \"https://www.eltiempo.com/\"\n",
        "    response = urllib.request.urlopen(url)\n",
        "    html_content = response.read().decode(\"utf-8\")\n",
        "    fecha = datetime.datetime.now().strftime(\"%Y-%m-%d\")\n",
        "    pagina = f\"{fecha}.html\"\n",
        "    pagina = '/tmp/'+pagina\n",
        "    with open(pagina, \"w\") as file:\n",
        "        file.write(html_content)\n",
        "\n",
        "    bucket_name = \"yummishurima\"\n",
        "\n",
        "    s3 = boto3.client(\"s3\")\n",
        "    s3.upload_file(pagina, bucket_name, pagina)\n",
        "\n",
        "    print(f\"Archivo '{pagina}' subido a '{bucket_name}'\")\n",
        "    return {\n",
        "        'statusCode': 200,\n",
        "        'body': json.dumps('Hello from Lambda!')\n",
        "    }"
      ],
      "metadata": {
        "id": "FQa1UzHr2qH9"
      },
      "execution_count": null,
      "outputs": []
    }
  ]
}